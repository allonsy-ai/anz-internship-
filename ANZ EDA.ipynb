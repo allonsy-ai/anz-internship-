{
  "nbformat": 4,
  "nbformat_minor": 0,
  "metadata": {
    "colab": {
      "name": "Untitled19.ipynb",
      "provenance": []
    },
    "kernelspec": {
      "name": "python3",
      "display_name": "Python 3"
    }
  },
  "cells": [
    {
      "cell_type": "code",
      "metadata": {
        "id": "ZhLDWxQs3Scp",
        "outputId": "2afa50f3-f900-4758-a73f-36f112dd2ff5",
        "colab": {
          "base_uri": "https://localhost:8080/",
          "height": 477
        }
      },
      "source": [
        "import pandas as pd\n",
        "import numpy as np\n",
        "import matplotlib.pyplot as plt\n",
        "import seaborn as sns\n",
        "df = pd.read_excel(r\"/ANZ synthesised transaction dataset (2).xlsx\")\n",
        "df.head()"
      ],
      "execution_count": 44,
      "outputs": [
        {
          "output_type": "execute_result",
          "data": {
            "text/html": [
              "<div>\n",
              "<style scoped>\n",
              "    .dataframe tbody tr th:only-of-type {\n",
              "        vertical-align: middle;\n",
              "    }\n",
              "\n",
              "    .dataframe tbody tr th {\n",
              "        vertical-align: top;\n",
              "    }\n",
              "\n",
              "    .dataframe thead th {\n",
              "        text-align: right;\n",
              "    }\n",
              "</style>\n",
              "<table border=\"1\" class=\"dataframe\">\n",
              "  <thead>\n",
              "    <tr style=\"text-align: right;\">\n",
              "      <th></th>\n",
              "      <th>status</th>\n",
              "      <th>card_present_flag</th>\n",
              "      <th>bpay_biller_code</th>\n",
              "      <th>account</th>\n",
              "      <th>currency</th>\n",
              "      <th>long_lat</th>\n",
              "      <th>txn_description</th>\n",
              "      <th>merchant_id</th>\n",
              "      <th>merchant_code</th>\n",
              "      <th>first_name</th>\n",
              "      <th>balance</th>\n",
              "      <th>date</th>\n",
              "      <th>gender</th>\n",
              "      <th>age</th>\n",
              "      <th>merchant_suburb</th>\n",
              "      <th>merchant_state</th>\n",
              "      <th>extraction</th>\n",
              "      <th>amount</th>\n",
              "      <th>transaction_id</th>\n",
              "      <th>country</th>\n",
              "      <th>customer_id</th>\n",
              "      <th>merchant_long_lat</th>\n",
              "      <th>movement</th>\n",
              "    </tr>\n",
              "  </thead>\n",
              "  <tbody>\n",
              "    <tr>\n",
              "      <th>0</th>\n",
              "      <td>authorized</td>\n",
              "      <td>1.0</td>\n",
              "      <td>NaN</td>\n",
              "      <td>ACC-1598451071</td>\n",
              "      <td>AUD</td>\n",
              "      <td>153.41 -27.95</td>\n",
              "      <td>POS</td>\n",
              "      <td>81c48296-73be-44a7-befa-d053f48ce7cd</td>\n",
              "      <td>NaN</td>\n",
              "      <td>Diana</td>\n",
              "      <td>35.39</td>\n",
              "      <td>2018-08-01</td>\n",
              "      <td>F</td>\n",
              "      <td>26</td>\n",
              "      <td>Ashmore</td>\n",
              "      <td>QLD</td>\n",
              "      <td>2018-08-01T01:01:15.000+0000</td>\n",
              "      <td>16.25</td>\n",
              "      <td>a623070bfead4541a6b0fff8a09e706c</td>\n",
              "      <td>Australia</td>\n",
              "      <td>CUS-2487424745</td>\n",
              "      <td>153.38 -27.99</td>\n",
              "      <td>debit</td>\n",
              "    </tr>\n",
              "    <tr>\n",
              "      <th>1</th>\n",
              "      <td>authorized</td>\n",
              "      <td>0.0</td>\n",
              "      <td>NaN</td>\n",
              "      <td>ACC-1598451071</td>\n",
              "      <td>AUD</td>\n",
              "      <td>153.41 -27.95</td>\n",
              "      <td>SALES-POS</td>\n",
              "      <td>830a451c-316e-4a6a-bf25-e37caedca49e</td>\n",
              "      <td>NaN</td>\n",
              "      <td>Diana</td>\n",
              "      <td>21.20</td>\n",
              "      <td>2018-08-01</td>\n",
              "      <td>F</td>\n",
              "      <td>26</td>\n",
              "      <td>Sydney</td>\n",
              "      <td>NSW</td>\n",
              "      <td>2018-08-01T01:13:45.000+0000</td>\n",
              "      <td>14.19</td>\n",
              "      <td>13270a2a902145da9db4c951e04b51b9</td>\n",
              "      <td>Australia</td>\n",
              "      <td>CUS-2487424745</td>\n",
              "      <td>151.21 -33.87</td>\n",
              "      <td>debit</td>\n",
              "    </tr>\n",
              "    <tr>\n",
              "      <th>2</th>\n",
              "      <td>authorized</td>\n",
              "      <td>1.0</td>\n",
              "      <td>NaN</td>\n",
              "      <td>ACC-1222300524</td>\n",
              "      <td>AUD</td>\n",
              "      <td>151.23 -33.94</td>\n",
              "      <td>POS</td>\n",
              "      <td>835c231d-8cdf-4e96-859d-e9d571760cf0</td>\n",
              "      <td>NaN</td>\n",
              "      <td>Michael</td>\n",
              "      <td>5.71</td>\n",
              "      <td>2018-08-01</td>\n",
              "      <td>M</td>\n",
              "      <td>38</td>\n",
              "      <td>Sydney</td>\n",
              "      <td>NSW</td>\n",
              "      <td>2018-08-01T01:26:15.000+0000</td>\n",
              "      <td>6.42</td>\n",
              "      <td>feb79e7ecd7048a5a36ec889d1a94270</td>\n",
              "      <td>Australia</td>\n",
              "      <td>CUS-2142601169</td>\n",
              "      <td>151.21 -33.87</td>\n",
              "      <td>debit</td>\n",
              "    </tr>\n",
              "    <tr>\n",
              "      <th>3</th>\n",
              "      <td>authorized</td>\n",
              "      <td>1.0</td>\n",
              "      <td>NaN</td>\n",
              "      <td>ACC-1037050564</td>\n",
              "      <td>AUD</td>\n",
              "      <td>153.10 -27.66</td>\n",
              "      <td>SALES-POS</td>\n",
              "      <td>48514682-c78a-4a88-b0da-2d6302e64673</td>\n",
              "      <td>NaN</td>\n",
              "      <td>Rhonda</td>\n",
              "      <td>2117.22</td>\n",
              "      <td>2018-08-01</td>\n",
              "      <td>F</td>\n",
              "      <td>40</td>\n",
              "      <td>Buderim</td>\n",
              "      <td>QLD</td>\n",
              "      <td>2018-08-01T01:38:45.000+0000</td>\n",
              "      <td>40.90</td>\n",
              "      <td>2698170da3704fd981b15e64a006079e</td>\n",
              "      <td>Australia</td>\n",
              "      <td>CUS-1614226872</td>\n",
              "      <td>153.05 -26.68</td>\n",
              "      <td>debit</td>\n",
              "    </tr>\n",
              "    <tr>\n",
              "      <th>4</th>\n",
              "      <td>authorized</td>\n",
              "      <td>1.0</td>\n",
              "      <td>NaN</td>\n",
              "      <td>ACC-1598451071</td>\n",
              "      <td>AUD</td>\n",
              "      <td>153.41 -27.95</td>\n",
              "      <td>SALES-POS</td>\n",
              "      <td>b4e02c10-0852-4273-b8fd-7b3395e32eb0</td>\n",
              "      <td>NaN</td>\n",
              "      <td>Diana</td>\n",
              "      <td>17.95</td>\n",
              "      <td>2018-08-01</td>\n",
              "      <td>F</td>\n",
              "      <td>26</td>\n",
              "      <td>Mermaid Beach</td>\n",
              "      <td>QLD</td>\n",
              "      <td>2018-08-01T01:51:15.000+0000</td>\n",
              "      <td>3.25</td>\n",
              "      <td>329adf79878c4cf0aeb4188b4691c266</td>\n",
              "      <td>Australia</td>\n",
              "      <td>CUS-2487424745</td>\n",
              "      <td>153.44 -28.06</td>\n",
              "      <td>debit</td>\n",
              "    </tr>\n",
              "  </tbody>\n",
              "</table>\n",
              "</div>"
            ],
            "text/plain": [
              "       status  card_present_flag  ... merchant_long_lat movement\n",
              "0  authorized                1.0  ...     153.38 -27.99    debit\n",
              "1  authorized                0.0  ...     151.21 -33.87    debit\n",
              "2  authorized                1.0  ...     151.21 -33.87    debit\n",
              "3  authorized                1.0  ...     153.05 -26.68    debit\n",
              "4  authorized                1.0  ...     153.44 -28.06    debit\n",
              "\n",
              "[5 rows x 23 columns]"
            ]
          },
          "metadata": {
            "tags": []
          },
          "execution_count": 44
        }
      ]
    },
    {
      "cell_type": "markdown",
      "metadata": {
        "id": "SXh8FqRC5D7u"
      },
      "source": [
        "# ***This is total number of unique customers***"
      ]
    },
    {
      "cell_type": "code",
      "metadata": {
        "id": "NIrL85Ri46lu",
        "outputId": "92e0180e-7a82-4a96-b8eb-3c05393b5caa",
        "colab": {
          "base_uri": "https://localhost:8080/",
          "height": 35
        }
      },
      "source": [
        "df[\"account\"].nunique()"
      ],
      "execution_count": 45,
      "outputs": [
        {
          "output_type": "execute_result",
          "data": {
            "text/plain": [
              "100"
            ]
          },
          "metadata": {
            "tags": []
          },
          "execution_count": 45
        }
      ]
    },
    {
      "cell_type": "code",
      "metadata": {
        "id": "LwWJ5Vky5Z6_",
        "outputId": "66cfa0f0-5b63-4b4c-94d0-d0d3dfcdc963",
        "colab": {
          "base_uri": "https://localhost:8080/",
          "height": 35
        }
      },
      "source": [
        "df[\"customer_id\"].nunique()"
      ],
      "execution_count": 47,
      "outputs": [
        {
          "output_type": "execute_result",
          "data": {
            "text/plain": [
              "100"
            ]
          },
          "metadata": {
            "tags": []
          },
          "execution_count": 47
        }
      ]
    },
    {
      "cell_type": "markdown",
      "metadata": {
        "id": "se3NemMB6bCo"
      },
      "source": [
        "# ***Data Cleaning to make my analysis run faster ***"
      ]
    },
    {
      "cell_type": "code",
      "metadata": {
        "id": "puGYvWcg6Z5v",
        "outputId": "1f333b4a-871d-4f7d-8e91-1d022f96e5ce",
        "colab": {
          "base_uri": "https://localhost:8080/",
          "height": 198
        }
      },
      "source": [
        "df = df[[\"status\",\"card_present_flag\",\"balance\",\"date\",\n",
        "                   \"gender\",\"age\",\"merchant_suburb\",\"merchant_state\",\n",
        "                   \"amount\",\"customer_id\",\"movement\"]]\n",
        "df[\"date\"] = pd.to_datetime(df[\"date\"])\n",
        "df.head()"
      ],
      "execution_count": 48,
      "outputs": [
        {
          "output_type": "execute_result",
          "data": {
            "text/html": [
              "<div>\n",
              "<style scoped>\n",
              "    .dataframe tbody tr th:only-of-type {\n",
              "        vertical-align: middle;\n",
              "    }\n",
              "\n",
              "    .dataframe tbody tr th {\n",
              "        vertical-align: top;\n",
              "    }\n",
              "\n",
              "    .dataframe thead th {\n",
              "        text-align: right;\n",
              "    }\n",
              "</style>\n",
              "<table border=\"1\" class=\"dataframe\">\n",
              "  <thead>\n",
              "    <tr style=\"text-align: right;\">\n",
              "      <th></th>\n",
              "      <th>status</th>\n",
              "      <th>card_present_flag</th>\n",
              "      <th>balance</th>\n",
              "      <th>date</th>\n",
              "      <th>gender</th>\n",
              "      <th>age</th>\n",
              "      <th>merchant_suburb</th>\n",
              "      <th>merchant_state</th>\n",
              "      <th>amount</th>\n",
              "      <th>customer_id</th>\n",
              "      <th>movement</th>\n",
              "    </tr>\n",
              "  </thead>\n",
              "  <tbody>\n",
              "    <tr>\n",
              "      <th>0</th>\n",
              "      <td>authorized</td>\n",
              "      <td>1.0</td>\n",
              "      <td>35.39</td>\n",
              "      <td>2018-08-01</td>\n",
              "      <td>F</td>\n",
              "      <td>26</td>\n",
              "      <td>Ashmore</td>\n",
              "      <td>QLD</td>\n",
              "      <td>16.25</td>\n",
              "      <td>CUS-2487424745</td>\n",
              "      <td>debit</td>\n",
              "    </tr>\n",
              "    <tr>\n",
              "      <th>1</th>\n",
              "      <td>authorized</td>\n",
              "      <td>0.0</td>\n",
              "      <td>21.20</td>\n",
              "      <td>2018-08-01</td>\n",
              "      <td>F</td>\n",
              "      <td>26</td>\n",
              "      <td>Sydney</td>\n",
              "      <td>NSW</td>\n",
              "      <td>14.19</td>\n",
              "      <td>CUS-2487424745</td>\n",
              "      <td>debit</td>\n",
              "    </tr>\n",
              "    <tr>\n",
              "      <th>2</th>\n",
              "      <td>authorized</td>\n",
              "      <td>1.0</td>\n",
              "      <td>5.71</td>\n",
              "      <td>2018-08-01</td>\n",
              "      <td>M</td>\n",
              "      <td>38</td>\n",
              "      <td>Sydney</td>\n",
              "      <td>NSW</td>\n",
              "      <td>6.42</td>\n",
              "      <td>CUS-2142601169</td>\n",
              "      <td>debit</td>\n",
              "    </tr>\n",
              "    <tr>\n",
              "      <th>3</th>\n",
              "      <td>authorized</td>\n",
              "      <td>1.0</td>\n",
              "      <td>2117.22</td>\n",
              "      <td>2018-08-01</td>\n",
              "      <td>F</td>\n",
              "      <td>40</td>\n",
              "      <td>Buderim</td>\n",
              "      <td>QLD</td>\n",
              "      <td>40.90</td>\n",
              "      <td>CUS-1614226872</td>\n",
              "      <td>debit</td>\n",
              "    </tr>\n",
              "    <tr>\n",
              "      <th>4</th>\n",
              "      <td>authorized</td>\n",
              "      <td>1.0</td>\n",
              "      <td>17.95</td>\n",
              "      <td>2018-08-01</td>\n",
              "      <td>F</td>\n",
              "      <td>26</td>\n",
              "      <td>Mermaid Beach</td>\n",
              "      <td>QLD</td>\n",
              "      <td>3.25</td>\n",
              "      <td>CUS-2487424745</td>\n",
              "      <td>debit</td>\n",
              "    </tr>\n",
              "  </tbody>\n",
              "</table>\n",
              "</div>"
            ],
            "text/plain": [
              "       status  card_present_flag  balance  ... amount     customer_id  movement\n",
              "0  authorized                1.0    35.39  ...  16.25  CUS-2487424745     debit\n",
              "1  authorized                0.0    21.20  ...  14.19  CUS-2487424745     debit\n",
              "2  authorized                1.0     5.71  ...   6.42  CUS-2142601169     debit\n",
              "3  authorized                1.0  2117.22  ...  40.90  CUS-1614226872     debit\n",
              "4  authorized                1.0    17.95  ...   3.25  CUS-2487424745     debit\n",
              "\n",
              "[5 rows x 11 columns]"
            ]
          },
          "metadata": {
            "tags": []
          },
          "execution_count": 48
        }
      ]
    },
    {
      "cell_type": "markdown",
      "metadata": {
        "id": "9SkGkW0D-zGY"
      },
      "source": [
        "# ***Number of Transactions on each day ***"
      ]
    },
    {
      "cell_type": "code",
      "metadata": {
        "id": "riw25u3x91xd",
        "outputId": "8384f549-25b2-4f13-cdaa-e36616d9ac45",
        "colab": {
          "base_uri": "https://localhost:8080/",
          "height": 235
        }
      },
      "source": [
        "df[\"date\"].value_counts()\n"
      ],
      "execution_count": 50,
      "outputs": [
        {
          "output_type": "execute_result",
          "data": {
            "text/plain": [
              "2018-09-28    174\n",
              "2018-08-17    172\n",
              "2018-10-05    168\n",
              "2018-10-17    162\n",
              "2018-09-14    161\n",
              "             ... \n",
              "2018-08-06     99\n",
              "2018-08-20     97\n",
              "2018-10-23     96\n",
              "2018-10-08     95\n",
              "2018-10-30     89\n",
              "Name: date, Length: 91, dtype: int64"
            ]
          },
          "metadata": {
            "tags": []
          },
          "execution_count": 50
        }
      ]
    },
    {
      "cell_type": "markdown",
      "metadata": {
        "id": "DwLre_qM_Kf8"
      },
      "source": [
        "# Number Of Transactions Made By Each Customer (first ten rows)"
      ]
    },
    {
      "cell_type": "code",
      "metadata": {
        "id": "zCnPyS0V_D5v",
        "outputId": "e0c2c012-bcf3-4abb-a396-a2942716cfe7",
        "colab": {
          "base_uri": "https://localhost:8080/",
          "height": 217
        }
      },
      "source": [
        "df[\"customer_id\"].value_counts().head(10)"
      ],
      "execution_count": 51,
      "outputs": [
        {
          "output_type": "execute_result",
          "data": {
            "text/plain": [
              "CUS-2487424745    578\n",
              "CUS-2142601169    303\n",
              "CUS-3026014945    292\n",
              "CUS-3378712515    260\n",
              "CUS-1614226872    259\n",
              "CUS-1196156254    245\n",
              "CUS-2695611575    239\n",
              "CUS-51506836      239\n",
              "CUS-860700529     233\n",
              "CUS-1669695324    230\n",
              "Name: customer_id, dtype: int64"
            ]
          },
          "metadata": {
            "tags": []
          },
          "execution_count": 51
        }
      ]
    },
    {
      "cell_type": "markdown",
      "metadata": {
        "id": "Ete9gqUJAylv"
      },
      "source": [
        "# Transcation volume each day "
      ]
    },
    {
      "cell_type": "code",
      "metadata": {
        "id": "2fCkHbm4BGy1"
      },
      "source": [
        "df_date_count = df.groupby(\"date\").count()"
      ],
      "execution_count": 52,
      "outputs": []
    },
    {
      "cell_type": "code",
      "metadata": {
        "id": "A6a2pk3UBLik"
      },
      "source": [
        "trans_vol = df_date_count[\"customer_id\"].mean()\n",
        "n_points = len(df_date_count.index)"
      ],
      "execution_count": 53,
      "outputs": []
    },
    {
      "cell_type": "code",
      "metadata": {
        "id": "U8rJRC3kBYvU",
        "outputId": "b8abd11d-4380-42a8-90ce-9fa4dd495d1d",
        "colab": {
          "base_uri": "https://localhost:8080/",
          "height": 297
        }
      },
      "source": [
        "plt.figure()\n",
        "plt.plot(df_date_count.index, df_date_count[\"customer_id\"], c=\"black\", label = \"Customer ID\")\n",
        "plt.plot(df_date_count.index, np.linspace(trans_vol,trans_vol,n_points), c=\"r\", label = \"Mean transaction volume\")\n",
        "plt.title(\"ANZ Transaction Volume vs. Date\")\n",
        "plt.xlabel(\"Date\")\n",
        "plt.ylabel(\"Number of customers\")\n",
        "plt.legend()\n",
        "plt.tight_layout()\n",
        "plt.show()"
      ],
      "execution_count": 54,
      "outputs": [
        {
          "output_type": "display_data",
          "data": {
            "image/png": "[encoded data removed]",
            "text/plain": [
              "<Figure size 432x288 with 1 Axes>"
            ]
          },
          "metadata": {
            "tags": [],
            "needs_background": "light"
          }
        }
      ]
    },
    {
      "cell_type": "markdown",
      "metadata": {
        "id": "8qYBTNIZCOpS"
      },
      "source": [
        "# ***Mean transaction amount each day***"
      ]
    },
    {
      "cell_type": "code",
      "metadata": {
        "id": "Ypi0oDosCV4K"
      },
      "source": [
        "df_date_mean = df.groupby(\"date\").mean()"
      ],
      "execution_count": 17,
      "outputs": []
    },
    {
      "cell_type": "code",
      "metadata": {
        "id": "0ifm2V_pCj7n"
      },
      "source": [
        "trans_amt = df_date_mean[\"amount\"].mean()\n",
        "n_points = len(df_date_count.index)"
      ],
      "execution_count": 18,
      "outputs": []
    },
    {
      "cell_type": "code",
      "metadata": {
        "id": "B9RMsJN7Co_R",
        "outputId": "d3116eaa-50d6-426b-c76c-971f00a24dd6",
        "colab": {
          "base_uri": "https://localhost:8080/",
          "height": 297
        }
      },
      "source": [
        "plt.figure()\n",
        "plt.plot(df_date_count.index, df_date_mean[\"amount\"], c=\"black\", label = \"Amount\")\n",
        "plt.plot(df_date_count.index, np.linspace(trans_amt,trans_amt,n_points), c=\"r\", label = \"Overall mean transaction amount\")\n",
        "plt.title(\"Mean Transaction Amount vs. Date\")\n",
        "plt.xlabel(\"Date\")\n",
        "plt.ylabel(\"Amount ($)\")\n",
        "plt.legend()\n",
        "plt.tight_layout()\n",
        "plt.show()"
      ],
      "execution_count": 55,
      "outputs": [
        {
          "output_type": "display_data",
          "data": {
            "image/png": "[encoded data removed]",
            "text/plain": [
              "<Figure size 432x288 with 1 Axes>"
            ]
          },
          "metadata": {
            "tags": [],
            "needs_background": "light"
          }
        }
      ]
    },
    {
      "cell_type": "code",
      "metadata": {
        "id": "pyuMW8kWCuRj",
        "outputId": "a84b285f-8bf1-48f0-edca-320a214d2f71",
        "colab": {
          "base_uri": "https://localhost:8080/",
          "height": 126
        }
      },
      "source": [
        "months = []\n",
        "for date in df[\"date\"]:\n",
        "    if date.month == 8:\n",
        "        months.append(\"August\")\n",
        "    elif date.month == 9:\n",
        "        months.append(\"September\")\n",
        "    elif date.month == 10:\n",
        "        months.append(\"October\")\n",
        "\n",
        "df[\"Months\"] = months\n",
        "df[\"Months\"].head()"
      ],
      "execution_count": 20,
      "outputs": [
        {
          "output_type": "execute_result",
          "data": {
            "text/plain": [
              "0    August\n",
              "1    August\n",
              "2    August\n",
              "3    August\n",
              "4    August\n",
              "Name: Months, dtype: object"
            ]
          },
          "metadata": {
            "tags": []
          },
          "execution_count": 20
        }
      ]
    },
    {
      "cell_type": "markdown",
      "metadata": {
        "id": "e4rZhBtuC3TL"
      },
      "source": [
        "# Mean customer balance and payment amount by age"
      ]
    },
    {
      "cell_type": "code",
      "metadata": {
        "id": "A1CKvyC3C8IU"
      },
      "source": [
        "df_cus_aug = df[df[\"Months\"] == \"August\"].groupby(\"customer_id\").mean()\n",
        "df_gen_aug = df[df[\"Months\"] == \"August\"].groupby(\"gender\").mean()"
      ],
      "execution_count": 21,
      "outputs": []
    },
    {
      "cell_type": "code",
      "metadata": {
        "id": "Mn8mCKMADCJy"
      },
      "source": [
        "mean_f_bal_aug = df_gen_aug[\"balance\"].iloc[0]\n",
        "mean_m_bal_aug = df_gen_aug[\"balance\"].iloc[1]\n",
        "n_points = len(df_cus_aug[\"age\"])"
      ],
      "execution_count": 22,
      "outputs": []
    },
    {
      "cell_type": "code",
      "metadata": {
        "id": "xY6f3UloDEJ1",
        "outputId": "29ae6cc1-bfca-4e60-bc97-58d382e7c71a",
        "colab": {
          "base_uri": "https://localhost:8080/",
          "height": 297
        }
      },
      "source": [
        "plt.figure()\n",
        "plt.scatter(df_cus_aug[\"age\"], df_cus_aug[\"balance\"], c=\"black\", label=\"Balance\")\n",
        "plt.plot(df_cus_aug[\"age\"], np.linspace(mean_f_bal_aug,mean_f_bal_aug,n_points), c=\"r\", label = \"Mean female balance\")\n",
        "plt.plot(df_cus_aug[\"age\"], np.linspace(mean_m_bal_aug,mean_m_bal_aug,n_points), c=\"b\", label = \"Mean male balance\")\n",
        "plt.title(\"ANZ Customer Balance vs. Age for August\")\n",
        "plt.xlabel(\"Age (years)\")\n",
        "plt.ylabel(\"Balance ($)\")\n",
        "plt.legend()\n",
        "plt.tight_layout()\n",
        "plt.show()"
      ],
      "execution_count": 23,
      "outputs": [
        {
          "output_type": "display_data",
          "data": {
            "image/png": "[encoded data removed]",
            "text/plain": [
              "<Figure size 432x288 with 1 Axes>"
            ]
          },
          "metadata": {
            "tags": [],
            "needs_background": "light"
          }
        }
      ]
    },
    {
      "cell_type": "code",
      "metadata": {
        "id": "JtD1zLHlDNdw"
      },
      "source": [
        "mean_f_amt_aug = df_gen_aug[\"amount\"].iloc[0]\n",
        "mean_m_amt_aug = df_gen_aug[\"amount\"].iloc[1]"
      ],
      "execution_count": 24,
      "outputs": []
    },
    {
      "cell_type": "code",
      "metadata": {
        "id": "sWqpP6w_DRJh",
        "outputId": "6d94a828-a694-4dd7-8519-1c6f956b83d4",
        "colab": {
          "base_uri": "https://localhost:8080/",
          "height": 297
        }
      },
      "source": [
        "plt.scatter(df_cus_aug[\"age\"], df_cus_aug[\"amount\"], c=\"black\", label=\"Amount\")\n",
        "plt.plot(df_cus_aug[\"age\"], np.linspace(mean_f_amt_aug,mean_f_amt_aug,n_points), c=\"r\", label = \"Mean female amount\")\n",
        "plt.plot(df_cus_aug[\"age\"], np.linspace(mean_m_amt_aug,mean_m_amt_aug,n_points), c=\"b\", label = \"Mean male amount\")\n",
        "plt.title(\"ANZ Customer Mean Payment Amount vs. Age for August\")\n",
        "plt.xlabel(\"Age (years)\")\n",
        "plt.ylabel(\"Amount ($)\")\n",
        "plt.legend()\n",
        "plt.tight_layout()"
      ],
      "execution_count": 25,
      "outputs": [
        {
          "output_type": "display_data",
          "data": {
            "image/png": "[encoded data removed]",
            "text/plain": [
              "<Figure size 432x288 with 1 Axes>"
            ]
          },
          "metadata": {
            "tags": [],
            "needs_background": "light"
          }
        }
      ]
    },
    {
      "cell_type": "code",
      "metadata": {
        "id": "wVSm4stADVRe"
      },
      "source": [
        "df_cus_sep = df[df[\"Months\"] == \"September\"].groupby(\"customer_id\").mean()\n",
        "df_gen_sep = df[df[\"Months\"] == \"September\"].groupby(\"gender\").mean()"
      ],
      "execution_count": 26,
      "outputs": []
    },
    {
      "cell_type": "code",
      "metadata": {
        "id": "DAMW71FLDanG"
      },
      "source": [
        "mean_f_bal_sep = df_gen_sep[\"balance\"].iloc[0]\n",
        "mean_m_bal_sep = df_gen_sep[\"balance\"].iloc[1]\n",
        "n_points = len(df_cus_sep[\"age\"])"
      ],
      "execution_count": 27,
      "outputs": []
    },
    {
      "cell_type": "code",
      "metadata": {
        "id": "sFp64FTRDeFz",
        "outputId": "a3ca1e30-7f2a-4df1-aef4-329df5594839",
        "colab": {
          "base_uri": "https://localhost:8080/",
          "height": 297
        }
      },
      "source": [
        "plt.figure()\n",
        "plt.scatter(df_cus_sep[\"age\"], df_cus_sep[\"balance\"], c=\"black\", label=\"Balance\")\n",
        "plt.plot(df_cus_sep[\"age\"], np.linspace(mean_f_bal_sep,mean_f_bal_sep,n_points), c=\"r\", label = \"Mean female balance\")\n",
        "plt.plot(df_cus_sep[\"age\"], np.linspace(mean_m_bal_sep,mean_m_bal_sep,n_points), c=\"b\", label = \"Mean male balance\")\n",
        "plt.title(\"ANZ Customer Balance vs. Age for September\")\n",
        "plt.xlabel(\"Age (years)\")\n",
        "plt.ylabel(\"Balance ($)\")\n",
        "plt.legend()\n",
        "plt.tight_layout()"
      ],
      "execution_count": 28,
      "outputs": [
        {
          "output_type": "display_data",
          "data": {
            "image/png": "[encoded data removed]",
            "text/plain": [
              "<Figure size 432x288 with 1 Axes>"
            ]
          },
          "metadata": {
            "tags": [],
            "needs_background": "light"
          }
        }
      ]
    },
    {
      "cell_type": "code",
      "metadata": {
        "id": "S4A4Q-CiDh7H"
      },
      "source": [
        "mean_f_amt_sep = df_gen_sep[\"amount\"].iloc[0]\n",
        "mean_m_amt_sep = df_gen_sep[\"amount\"].iloc[1]"
      ],
      "execution_count": 29,
      "outputs": []
    },
    {
      "cell_type": "code",
      "metadata": {
        "id": "ro9FpskIDlGS",
        "outputId": "423d4803-b8d6-40a9-8230-8e5438590f2a",
        "colab": {
          "base_uri": "https://localhost:8080/",
          "height": 297
        }
      },
      "source": [
        "plt.scatter(df_cus_sep[\"age\"], df_cus_sep[\"amount\"], c=\"black\", label=\"Amount\")\n",
        "plt.plot(df_cus_sep[\"age\"], np.linspace(mean_f_amt_sep,mean_f_amt_sep,n_points), c=\"r\", label = \"Mean female amount\")\n",
        "plt.plot(df_cus_sep[\"age\"], np.linspace(mean_m_amt_sep,mean_m_amt_sep,n_points), c=\"b\", label = \"Mean male amount\")\n",
        "plt.title(\"ANZ Customer Mean Payment Amount vs. Age for September\")\n",
        "plt.xlabel(\"Age (years)\")\n",
        "plt.ylabel(\"Amount ($)\")\n",
        "plt.legend()\n",
        "plt.tight_layout()"
      ],
      "execution_count": 30,
      "outputs": [
        {
          "output_type": "display_data",
          "data": {
            "image/png": "[encoded data removed]",
            "text/plain": [
              "<Figure size 432x288 with 1 Axes>"
            ]
          },
          "metadata": {
            "tags": [],
            "needs_background": "light"
          }
        }
      ]
    },
    {
      "cell_type": "code",
      "metadata": {
        "id": "-3AYwFpEDsxp"
      },
      "source": [
        "df_cus_oct = df[df[\"Months\"] == \"October\"].groupby(\"customer_id\").mean()\n",
        "df_gen_oct = df[df[\"Months\"] == \"October\"].groupby(\"gender\").mean()"
      ],
      "execution_count": 31,
      "outputs": []
    },
    {
      "cell_type": "code",
      "metadata": {
        "id": "dNhkrjDvDzZH"
      },
      "source": [
        "mean_f_bal_oct = df_gen_oct[\"balance\"].iloc[0]\n",
        "mean_m_bal_oct = df_gen_oct[\"balance\"].iloc[1]\n",
        "n_points = len(df_cus_oct[\"age\"])"
      ],
      "execution_count": 32,
      "outputs": []
    },
    {
      "cell_type": "code",
      "metadata": {
        "id": "UzcmwN_TEANP",
        "outputId": "6280139b-1d1f-43c9-c69a-ffc6c6567293",
        "colab": {
          "base_uri": "https://localhost:8080/",
          "height": 297
        }
      },
      "source": [
        "plt.figure()\n",
        "plt.scatter(df_cus_oct[\"age\"], df_cus_oct[\"balance\"], c=\"black\", label=\"Balance\")\n",
        "plt.plot(df_cus_oct[\"age\"], np.linspace(mean_f_bal_oct,mean_f_bal_oct,n_points), c=\"r\", label = \"Mean female balance\")\n",
        "plt.plot(df_cus_oct[\"age\"], np.linspace(mean_m_bal_oct,mean_m_bal_oct,n_points), c=\"b\", label = \"Mean male balance\")\n",
        "plt.title(\"ANZ Customer Balance vs. Age for October\")\n",
        "plt.xlabel(\"Age (years)\")\n",
        "plt.ylabel(\"Balance ($)\")\n",
        "plt.legend()\n",
        "plt.tight_layout()\n"
      ],
      "execution_count": 33,
      "outputs": [
        {
          "output_type": "display_data",
          "data": {
            "image/png": "[encoded data removed]",
            "text/plain": [
              "<Figure size 432x288 with 1 Axes>"
            ]
          },
          "metadata": {
            "tags": [],
            "needs_background": "light"
          }
        }
      ]
    },
    {
      "cell_type": "code",
      "metadata": {
        "id": "3M3nQGGvEEag"
      },
      "source": [
        "mean_f_amt_oct = df_gen_oct[\"amount\"].iloc[0]\n",
        "mean_m_amt_oct = df_gen_oct[\"amount\"].iloc[1]"
      ],
      "execution_count": 34,
      "outputs": []
    },
    {
      "cell_type": "code",
      "metadata": {
        "id": "peDNr0hGEIZH",
        "outputId": "09207d00-0d1a-49fc-8941-fa0d330569b8",
        "colab": {
          "base_uri": "https://localhost:8080/",
          "height": 297
        }
      },
      "source": [
        "plt.scatter(df_cus_oct[\"age\"], df_cus_oct[\"amount\"], c=\"black\", label=\"Amount\")\n",
        "plt.plot(df_cus_oct[\"age\"], np.linspace(mean_f_amt_oct,mean_f_amt_oct,n_points), c=\"r\", label = \"Mean female amount\")\n",
        "plt.plot(df_cus_oct[\"age\"], np.linspace(mean_m_amt_oct,mean_m_amt_oct,n_points), c=\"b\", label = \"Mean male amount\")\n",
        "plt.title(\"Customer Mean Payment Amount vs. Age for October\")\n",
        "plt.xlabel(\"Age (years)\")\n",
        "plt.ylabel(\"Amount ($)\")\n",
        "plt.legend()\n",
        "plt.tight_layout()"
      ],
      "execution_count": 37,
      "outputs": [
        {
          "output_type": "display_data",
          "data": {
            "image/png": "[encoded data removed]",
            "text/plain": [
              "<Figure size 432x288 with 1 Axes>"
            ]
          },
          "metadata": {
            "tags": [],
            "needs_background": "light"
          }
        }
      ]
    },
    {
      "cell_type": "code",
      "metadata": {
        "id": "rM8iivmtEZe3",
        "outputId": "73c4ee48-03fd-4b28-b969-fabeae8b28ec",
        "colab": {
          "base_uri": "https://localhost:8080/",
          "height": 168
        }
      },
      "source": [
        "corr = df.corr(method='pearson')\n",
        "corr"
      ],
      "execution_count": 36,
      "outputs": [
        {
          "output_type": "execute_result",
          "data": {
            "text/html": [
              "<div>\n",
              "<style scoped>\n",
              "    .dataframe tbody tr th:only-of-type {\n",
              "        vertical-align: middle;\n",
              "    }\n",
              "\n",
              "    .dataframe tbody tr th {\n",
              "        vertical-align: top;\n",
              "    }\n",
              "\n",
              "    .dataframe thead th {\n",
              "        text-align: right;\n",
              "    }\n",
              "</style>\n",
              "<table border=\"1\" class=\"dataframe\">\n",
              "  <thead>\n",
              "    <tr style=\"text-align: right;\">\n",
              "      <th></th>\n",
              "      <th>card_present_flag</th>\n",
              "      <th>balance</th>\n",
              "      <th>age</th>\n",
              "      <th>amount</th>\n",
              "    </tr>\n",
              "  </thead>\n",
              "  <tbody>\n",
              "    <tr>\n",
              "      <th>card_present_flag</th>\n",
              "      <td>1.000000</td>\n",
              "      <td>0.005925</td>\n",
              "      <td>-0.008405</td>\n",
              "      <td>-0.002074</td>\n",
              "    </tr>\n",
              "    <tr>\n",
              "      <th>balance</th>\n",
              "      <td>0.005925</td>\n",
              "      <td>1.000000</td>\n",
              "      <td>0.199329</td>\n",
              "      <td>0.059178</td>\n",
              "    </tr>\n",
              "    <tr>\n",
              "      <th>age</th>\n",
              "      <td>-0.008405</td>\n",
              "      <td>0.199329</td>\n",
              "      <td>1.000000</td>\n",
              "      <td>0.029980</td>\n",
              "    </tr>\n",
              "    <tr>\n",
              "      <th>amount</th>\n",
              "      <td>-0.002074</td>\n",
              "      <td>0.059178</td>\n",
              "      <td>0.029980</td>\n",
              "      <td>1.000000</td>\n",
              "    </tr>\n",
              "  </tbody>\n",
              "</table>\n",
              "</div>"
            ],
            "text/plain": [
              "                   card_present_flag   balance       age    amount\n",
              "card_present_flag           1.000000  0.005925 -0.008405 -0.002074\n",
              "balance                     0.005925  1.000000  0.199329  0.059178\n",
              "age                        -0.008405  0.199329  1.000000  0.029980\n",
              "amount                     -0.002074  0.059178  0.029980  1.000000"
            ]
          },
          "metadata": {
            "tags": []
          },
          "execution_count": 36
        }
      ]
    }
  ]
}